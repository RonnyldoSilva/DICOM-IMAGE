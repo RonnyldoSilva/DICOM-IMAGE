{
 "cells": [
  {
   "cell_type": "code",
   "execution_count": null,
   "metadata": {},
   "outputs": [],
   "source": [
    "import pydicom"
   ]
  },
  {
   "cell_type": "code",
   "execution_count": null,
   "metadata": {},
   "outputs": [],
   "source": [
    "def get_dicom_value(ds, json, key, value1, value2):\n",
    "    result = {}\n",
    "    \n",
    "    try:\n",
    "        result = {key: ds[value1,value2].value}\n",
    "    except KeyError:\n",
    "        #print('error keyValue: {} , {}'.format(value1, value2))\n",
    "        return result\n",
    "    \n",
    "    return result\n",
    "    "
   ]
  },
  {
   "cell_type": "code",
   "execution_count": null,
   "metadata": {},
   "outputs": [],
   "source": [
    "def parser_dicom(dicom_file):\n",
    "    ds = pydicom.read_file(dicom_file)\n",
    "    \n",
    "    tags = [\n",
    "        ['0008,0020', 0x8, 0x20],\n",
    "        ['0008,0021', 0x8, 0x21],\n",
    "        ['0008,0022', 0x8, 0x22],\n",
    "        ['0008,002A', 0x8, 0x2A],\n",
    "        ['0008,0030', 0x8, 0x30],\n",
    "        ['0008,0031', 0x8, 0x31],\n",
    "        ['0008,0032', 0x8, 0x32],\n",
    "        ['0008,0042', 0x8, 0x42],\n",
    "        ['0008,0055', 0x8, 0x55],\n",
    "        ['0008,0060', 0x8, 0x60],\n",
    "        ['0008,0062', 0x8, 0x62],\n",
    "        ['0008,0063', 0x8, 0x63],\n",
    "        ['0008,0070', 0x8, 0x70],\n",
    "        ['0008,0080', 0x8, 0x80],\n",
    "        ['0008,1030', 0x8, 0x1030],\n",
    "        ['0008,103E', 0x8, 0x103E],\n",
    "        ['0008,103F', 0x8, 0x103F],\n",
    "        ['0008,1070', 0x8, 0x1070],\n",
    "        ['0008,1090', 0x8, 0x1090],\n",
    "        ['0008,1161', 0x8, 0x1161],\n",
    "        ['0008,1162', 0x8, 0x1162],\n",
    "        ['0010,0010', 0x10, 0x10],\n",
    "        ['0010,0020', 0x10, 0x20],\n",
    "        ['0010,0030', 0x10, 0x30],\n",
    "        ['0010,0040', 0x10, 0x40],\n",
    "        ['0010,1010', 0x10, 0x1010],\n",
    "        ['0010,1020', 0x10, 0x1020],\n",
    "        ['0010,1030', 0x10, 0x1030],\n",
    "        ['0018,0030', 0x18, 0x30],\n",
    "        ['0018,0031', 0x18, 0x31],\n",
    "        ['0018,0032', 0x18, 0x32],\n",
    "        ['0018,0050', 0x18, 0x50],\n",
    "        ['0018,0060', 0x18, 0x60],\n",
    "        ['0018,0080', 0x18, 0x80],\n",
    "        ['0018,1071', 0x18, 0x1071],\n",
    "        ['0018,1072', 0x18, 0x1072],\n",
    "        ['0018,1073', 0x18, 0x1073],\n",
    "        ['0018,1074', 0x18, 0x1074],\n",
    "        ['0018,1075', 0x18, 0x1075],\n",
    "        ['0018,1076', 0x18, 0x1076],\n",
    "        ['0018,1077', 0x18, 0x1077],\n",
    "        ['0018,1078', 0x18, 0x1078],\n",
    "        ['0018,1079', 0x18, 0x1079],\n",
    "        ['0018,1150', 0x18, 0x1150],\n",
    "        ['0018,1151', 0x18, 0x1151],\n",
    "        ['0018,1152', 0x18, 0x1152],\n",
    "        ['0018,1243', 0x18, 0x1243],\n",
    "        ['0018,1300', 0x18, 0x1300],\n",
    "        ['0018,1302', 0x18, 0x1302],\n",
    "        ['0018,1310', 0x18, 0x1310],\n",
    "        ['0018,9345', 0x18, 0x9346],\n",
    "        ['0018,9346', 0x18, 0x9346],\n",
    "        ['0018,9756', 0x18, 0x9756],\n",
    "        ['0018,9758', 0x18, 0x9758],\n",
    "        ['0018,9759', 0x18, 0x9759],\n",
    "        ['0018,9760', 0x18, 0x9760],\n",
    "        ['0018,9761', 0x18, 0x9761],\n",
    "        ['0018,9765', 0x18, 0x9765]\n",
    "    ]\n",
    "    \n",
    "    json = {}\n",
    "        \n",
    "    for tag in tags:\n",
    "        json.update(get_dicom_value(ds, json, tag[0], tag[1], tag[2]))\n",
    "    \n",
    "    return json\n",
    "    \n",
    "    "
   ]
  },
  {
   "cell_type": "code",
   "execution_count": null,
   "metadata": {},
   "outputs": [],
   "source": [
    "print(parser_dicom('dicom-test.dcm'))"
   ]
  },
  {
   "cell_type": "code",
   "execution_count": null,
   "metadata": {},
   "outputs": [],
   "source": []
  }
 ],
 "metadata": {
  "kernelspec": {
   "display_name": "Python 3",
   "language": "python",
   "name": "python3"
  },
  "language_info": {
   "codemirror_mode": {
    "name": "ipython",
    "version": 3
   },
   "file_extension": ".py",
   "mimetype": "text/x-python",
   "name": "python",
   "nbconvert_exporter": "python",
   "pygments_lexer": "ipython3",
   "version": "3.8.5"
  }
 },
 "nbformat": 4,
 "nbformat_minor": 4
}
